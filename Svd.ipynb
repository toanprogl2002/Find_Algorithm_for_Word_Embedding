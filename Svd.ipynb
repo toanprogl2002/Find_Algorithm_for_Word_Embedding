{
 "cells": [
  {
   "cell_type": "code",
   "execution_count": 10,
   "metadata": {},
   "outputs": [
    {
     "name": "stdout",
     "output_type": "stream",
     "text": [
      "[[-0.62059443  0.58633908 -0.49921665 -0.14782345]\n",
      " [-0.38584227  0.31546399  0.86542244 -0.05149966]\n",
      " [-0.53999718 -0.70040738 -0.01320397 -0.46653854]\n",
      " [-0.41760189 -0.2571351  -0.04064968  0.8705388 ]]\n",
      "Frobenius norm of (UU^T - I) = 1.4910288095027898e-15\n",
      "\n",
      " S =  [2.14379378 0.61718434 0.29378574] \n",
      "\n",
      "Frobenius norm of (VV^T - I) = 1.186123852934062e-15\n"
     ]
    }
   ],
   "source": [
    "import numpy as np\n",
    "from numpy import linalg as LA\n",
    "\n",
    "m, n = 4, 3\n",
    "A = np.random.rand(m, n)\n",
    "U, S, V = LA.svd(A)\n",
    "print(U)\n",
    "\n",
    "# checking if U, V are orthogonal and S is a diagonal matrix with\n",
    "# nonnegative decreasing elements\n",
    "print('Frobenius norm of (UU^T - I) =', \\\n",
    "    LA.norm(U.dot(U.T) - np.eye(m)))\n",
    "print('\\n S = ', S, '\\n')\n",
    "print('Frobenius norm of (VV^T - I) =', \\\n",
    "    LA.norm(V.dot(V.T) - np.eye(n)))"
   ]
  },
  {
   "cell_type": "markdown",
   "metadata": {},
   "source": []
  }
 ],
 "metadata": {
  "kernelspec": {
   "display_name": "Python 3.9.10 64-bit",
   "language": "python",
   "name": "python3"
  },
  "language_info": {
   "codemirror_mode": {
    "name": "ipython",
    "version": 3
   },
   "file_extension": ".py",
   "mimetype": "text/x-python",
   "name": "python",
   "nbconvert_exporter": "python",
   "pygments_lexer": "ipython3",
   "version": "3.9.10"
  },
  "orig_nbformat": 4,
  "vscode": {
   "interpreter": {
    "hash": "c1b69be832d2eb157fe46748b0295e4192a3be409a7196d86771f39fec96a00b"
   }
  }
 },
 "nbformat": 4,
 "nbformat_minor": 2
}
